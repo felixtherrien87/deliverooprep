{
 "cells": [
  {
   "cell_type": "code",
   "execution_count": 1,
   "metadata": {},
   "outputs": [],
   "source": [
    "import pandas as pd\n",
    "import numpy as np\n",
    "import matplotlib.pyplot as plt\n",
    "%matplotlib inline"
   ]
  },
  {
   "cell_type": "code",
   "execution_count": 2,
   "metadata": {},
   "outputs": [],
   "source": [
    "products = pd.read_csv('product_titles.csv',encoding ='latin-1')"
   ]
  },
  {
   "cell_type": "code",
   "execution_count": 19,
   "metadata": {},
   "outputs": [
    {
     "data": {
      "text/plain": [
       "0      Offres Privées : Pack d'1 Livre Photo Luxe jus...\n",
       "1      Groupon - A4 Personalised Photobook Credit (up...\n",
       "2             Pack 1 Livre Photo Luxe 100 pages (1 mois)\n",
       "3      2 x A4 Classic Photobook with 60 Pages, Deluxe...\n",
       "4      2 x A4 Classic Collage Book with 100 Pages (3 ...\n",
       "5      Livre Photo Prestige A4 jusqu'à 160 pages + co...\n",
       "6      Livre Photo Portrait A4 50 pages + Option Couv...\n",
       "7      Offres Privées : Pack de 2 Livres Photo Presti...\n",
       "8                Livre Photo Mosaïque - jusqu'à 90 pages\n",
       "9      Square Hardcover Photobook with 60 pages, Prem...\n",
       "10     Offres Privées : Pack d'1 Livre Photo Maman de...\n",
       "11     1 x A4 Personalised Photobook with 26 Pages (6...\n",
       "12     Pack 1 Livre Photo Prestige A4 jusqu'à 120 pag...\n",
       "13     A4 Personalised Photo Book & A4 Classic PhotoB...\n",
       "14     A3 Personalised Photobook with 100 Pages and L...\n",
       "15         Guthaben: Fotobuch Prestige XXL A3, 60 Seiten\n",
       "16     Large Square Hardcover Photobook with 50 Pages...\n",
       "17     Oferty VIP : Jednostki na 1 FotoKsi??k? Kwadra...\n",
       "18     2 x A4 Personalised Photobook with 60 Pages an...\n",
       "19     A4 Personalised Photobook with 100 Pages and L...\n",
       "20     A3 Personalised Photobook with 120 Pages and L...\n",
       "21     Large Square Lay Flat Book with 50 pages and M...\n",
       "22     1 x A3 Personalised Photobook with 60 Pages an...\n",
       "23                   A4 Personalised Photobook 110 pages\n",
       "24     Offres Privées : Pack de 2 Livres Photo Panton...\n",
       "25     Pack d'1 Livre Photo Luxe jusqu'à 100 pages + ...\n",
       "26     Pack de 3 Livres Photo Prestige A4 jusqu'à 100...\n",
       "27                              Livre Photo Personalised\n",
       "28     Crédito Álbum Prestigio Cuadrado XL de 100 pág...\n",
       "29             Livre Photo Prestige XL jusqu'à 100 pages\n",
       "                             ...                        \n",
       "970    Offres Privées : Pack d'1 Livre Premium A4 jus...\n",
       "971    Your Groupon 70 page Credit - Please see 'Amou...\n",
       "972    Pack 1 Livre Photo Prestige A4 format Paysage ...\n",
       "973    Oferta VIP : Pakiet 1 Foto Ksi??ki Prestige A4...\n",
       "974    Offres Privées : Pack de 3 Livres Photo Presti...\n",
       "975    2 x A4 Personalised Photobook with 160 Pages a...\n",
       "976               Pack d'1 Livre Photo Luxe de 100 pages\n",
       "977                  A3 Personalised Photobook 100 Pages\n",
       "978    1 x Large Square Hardcover Photobook with 60 P...\n",
       "979    1 x A4 Personalised Photobook with 32 Pages an...\n",
       "980    Offres Privées : Pack de 2 Livres Photo Mosaïq...\n",
       "981    Pack 1 Livre Photo Prestige Portrait A4 jusqu'...\n",
       "982    Square Lay Flat Book with 70 Pages and Deluxe ...\n",
       "983    Guthaben: Fotobuch Hardcover Quadratisch 60 Se...\n",
       "984    2 x A4 Personalised Photo Book with 60 pages e...\n",
       "985    Pack 1 Livre Photo Prestige A4 jusqu'à 100 pag...\n",
       "986    Livre Photo CaArré XL jusqu'à 100 pages + couv...\n",
       "987    A3 Personalised Photobook with 60 Pages, Premi...\n",
       "988               Pack 2 Livres Photo Design de 50 pages\n",
       "989    Sonderaktion: Fotobuch Premium A4, 50 Seiten i...\n",
       "990        A4 Portrait Photobook with 32 Pages (1 Month)\n",
       "991    2 x A3 Personalised Photobook with 60 Pages an...\n",
       "992                                      Dark blue cover\n",
       "993    A4 Classic Photobook with 26 Pages and Deluxe ...\n",
       "994    Offres Privées : Pack d'1 Livre Photo Spirales...\n",
       "995    A4 Classic Photobook with 60 Pages, Embossed C...\n",
       "996    A4 Portrait Photobook with 100 Pages, Deluxe G...\n",
       "997    Offres privées : Pack de 2 Livres Photo Presti...\n",
       "998    Pack 1 Livre Photo Prestige A4 jusqu'à 100 pag...\n",
       "999    Offres privées : Pack d'1 Livre Photo 2014 jus...\n",
       "Name: Product_Name, Length: 1000, dtype: object"
      ]
     },
     "execution_count": 19,
     "metadata": {},
     "output_type": "execute_result"
    }
   ],
   "source": [
    "products['Product_Name']"
   ]
  },
  {
   "cell_type": "code",
   "execution_count": 4,
   "metadata": {},
   "outputs": [],
   "source": [
    "from sklearn.feature_extraction.text import TfidfVectorizer"
   ]
  },
  {
   "cell_type": "code",
   "execution_count": 5,
   "metadata": {},
   "outputs": [],
   "source": [
    "tfidf = TfidfVectorizer(stop_words='english')"
   ]
  },
  {
   "cell_type": "code",
   "execution_count": 7,
   "metadata": {},
   "outputs": [],
   "source": [
    "tfidf = TfidfVectorizer(stop_words='english')\n",
    "tfidf_matrix = tfidf.fit_transform(products['Product_Name'])"
   ]
  },
  {
   "cell_type": "code",
   "execution_count": 8,
   "metadata": {},
   "outputs": [
    {
     "data": {
      "text/plain": [
       "(1000, 356)"
      ]
     },
     "execution_count": 8,
     "metadata": {},
     "output_type": "execute_result"
    }
   ],
   "source": [
    "tfidf_matrix.shape"
   ]
  },
  {
   "cell_type": "code",
   "execution_count": 9,
   "metadata": {},
   "outputs": [],
   "source": [
    "# Import linear_kernel\n",
    "from sklearn.metrics.pairwise import linear_kernel\n",
    "\n",
    "# Compute the cosine similarity matrix\n",
    "cosine_sim = linear_kernel(tfidf_matrix, tfidf_matrix)"
   ]
  },
  {
   "cell_type": "code",
   "execution_count": 10,
   "metadata": {},
   "outputs": [],
   "source": [
    "indices = pd.Series(products.index, index=products['Product_Name']).drop_duplicates()"
   ]
  },
  {
   "cell_type": "code",
   "execution_count": 11,
   "metadata": {},
   "outputs": [],
   "source": [
    "def get_recommendations(title, cosine_sim=cosine_sim):\n",
    "    # Get the index of the movie that matches the title\n",
    "    idx = indices[title]\n",
    "\n",
    "    # Get the pairwsie similarity scores of all movies with that movie\n",
    "    sim_scores = list(enumerate(cosine_sim[idx]))\n",
    "\n",
    "    # Sort the movies based on the similarity scores\n",
    "    sim_scores = sorted(sim_scores, key=lambda x: x[1], reverse=True)\n",
    "\n",
    "    # Get the scores of the 10 most similar movies\n",
    "    sim_scores = sim_scores[1:11]\n",
    "\n",
    "    # Get the movie indices\n",
    "    prod_indices = [i[0] for i in sim_scores]\n",
    "\n",
    "    # Return the top 10 most similar movies\n",
    "    return products['Product_Name'].iloc[prod_indices]"
   ]
  },
  {
   "cell_type": "code",
   "execution_count": 20,
   "metadata": {},
   "outputs": [
    {
     "data": {
      "text/plain": [
       "885    2 x A3 Personalised Photobook with 100 Pages (...\n",
       "165    A3 Personalised Photobook with 100 Pages + No ...\n",
       "156    A3 Personalised Photobook with 100 Pages and L...\n",
       "807                   A3 Personalised Photobook 26 pages\n",
       "766                                         Photobook A3\n",
       "32     1 x A3 Personalised Photobook with 50 Pages (3...\n",
       "220    2 x A3 Personalised Photobook with 60 Pages (1...\n",
       "888    A3 Personalised Photobook with 100 Pages and D...\n",
       "219    A3 Personalised Photobook with 50 Pages + No Logo\n",
       "590    A3 Personalised Photobook with 120 Pages (3 Mo...\n",
       "Name: Product_Name, dtype: object"
      ]
     },
     "execution_count": 20,
     "metadata": {},
     "output_type": "execute_result"
    }
   ],
   "source": [
    "get_recommendations('A3 Personalised Photobook 100 Pages')"
   ]
  },
  {
   "cell_type": "code",
   "execution_count": 21,
   "metadata": {},
   "outputs": [
    {
     "name": "stdout",
     "output_type": "stream",
     "text": [
      "<class 'pandas.core.frame.DataFrame'>\n",
      "RangeIndex: 1000 entries, 0 to 999\n",
      "Data columns (total 3 columns):\n",
      "Product_Name    1000 non-null object\n",
      "category        1000 non-null object\n",
      "size            1000 non-null object\n",
      "dtypes: object(3)\n",
      "memory usage: 23.5+ KB\n"
     ]
    }
   ],
   "source": [
    "products.info()"
   ]
  },
  {
   "cell_type": "code",
   "execution_count": 30,
   "metadata": {},
   "outputs": [],
   "source": [
    "def create_soup(x):\n",
    "    return ' '.join(x['Product_Name']) + ' ' + ' '.join(x['category'])+ ' ' + ' '.join(x['size'])"
   ]
  },
  {
   "cell_type": "code",
   "execution_count": 31,
   "metadata": {},
   "outputs": [],
   "source": [
    "# Create a new soup feature\n",
    "products['soup'] = products.apply(create_soup, axis=1)"
   ]
  },
  {
   "cell_type": "code",
   "execution_count": 50,
   "metadata": {},
   "outputs": [],
   "source": [
    "# Import CountVectorizer and create the count matrix\n",
    "from sklearn.feature_extraction.text import CountVectorizer\n",
    "\n",
    "count = CountVectorizer()"
   ]
  },
  {
   "cell_type": "code",
   "execution_count": 52,
   "metadata": {},
   "outputs": [
    {
     "ename": "ValueError",
     "evalue": "empty vocabulary; perhaps the documents only contain stop words",
     "output_type": "error",
     "traceback": [
      "\u001b[1;31m---------------------------------------------------------------------------\u001b[0m",
      "\u001b[1;31mValueError\u001b[0m                                Traceback (most recent call last)",
      "\u001b[1;32m<ipython-input-52-b170fade111e>\u001b[0m in \u001b[0;36m<module>\u001b[1;34m()\u001b[0m\n\u001b[1;32m----> 1\u001b[1;33m \u001b[0mcount_matrix\u001b[0m \u001b[1;33m=\u001b[0m \u001b[0mcount\u001b[0m\u001b[1;33m.\u001b[0m\u001b[0mfit_transform\u001b[0m\u001b[1;33m(\u001b[0m\u001b[0mproducts\u001b[0m\u001b[1;33m[\u001b[0m\u001b[1;34m'soup'\u001b[0m\u001b[1;33m]\u001b[0m\u001b[1;33m)\u001b[0m\u001b[1;33m\u001b[0m\u001b[0m\n\u001b[0m",
      "\u001b[1;32m~\\AppData\\Local\\Continuum\\anaconda3\\lib\\site-packages\\sklearn\\feature_extraction\\text.py\u001b[0m in \u001b[0;36mfit_transform\u001b[1;34m(self, raw_documents, y)\u001b[0m\n\u001b[0;32m    867\u001b[0m \u001b[1;33m\u001b[0m\u001b[0m\n\u001b[0;32m    868\u001b[0m         vocabulary, X = self._count_vocab(raw_documents,\n\u001b[1;32m--> 869\u001b[1;33m                                           self.fixed_vocabulary_)\n\u001b[0m\u001b[0;32m    870\u001b[0m \u001b[1;33m\u001b[0m\u001b[0m\n\u001b[0;32m    871\u001b[0m         \u001b[1;32mif\u001b[0m \u001b[0mself\u001b[0m\u001b[1;33m.\u001b[0m\u001b[0mbinary\u001b[0m\u001b[1;33m:\u001b[0m\u001b[1;33m\u001b[0m\u001b[0m\n",
      "\u001b[1;32m~\\AppData\\Local\\Continuum\\anaconda3\\lib\\site-packages\\sklearn\\feature_extraction\\text.py\u001b[0m in \u001b[0;36m_count_vocab\u001b[1;34m(self, raw_documents, fixed_vocab)\u001b[0m\n\u001b[0;32m    809\u001b[0m             \u001b[0mvocabulary\u001b[0m \u001b[1;33m=\u001b[0m \u001b[0mdict\u001b[0m\u001b[1;33m(\u001b[0m\u001b[0mvocabulary\u001b[0m\u001b[1;33m)\u001b[0m\u001b[1;33m\u001b[0m\u001b[0m\n\u001b[0;32m    810\u001b[0m             \u001b[1;32mif\u001b[0m \u001b[1;32mnot\u001b[0m \u001b[0mvocabulary\u001b[0m\u001b[1;33m:\u001b[0m\u001b[1;33m\u001b[0m\u001b[0m\n\u001b[1;32m--> 811\u001b[1;33m                 raise ValueError(\"empty vocabulary; perhaps the documents only\"\n\u001b[0m\u001b[0;32m    812\u001b[0m                                  \" contain stop words\")\n\u001b[0;32m    813\u001b[0m \u001b[1;33m\u001b[0m\u001b[0m\n",
      "\u001b[1;31mValueError\u001b[0m: empty vocabulary; perhaps the documents only contain stop words"
     ]
    }
   ],
   "source": [
    "count_matrix = count.fit_transform(products['soup'])"
   ]
  },
  {
   "cell_type": "code",
   "execution_count": 65,
   "metadata": {},
   "outputs": [],
   "source": [
    "def make_list(x):\n",
    "    return ''.join(x['Product_Name']) +''+''.join(x['category']) +''+''.join(x['size'])"
   ]
  },
  {
   "cell_type": "code",
   "execution_count": 66,
   "metadata": {},
   "outputs": [],
   "source": [
    "products['concat'] = products.apply(make_list, axis=1)"
   ]
  },
  {
   "cell_type": "code",
   "execution_count": 68,
   "metadata": {},
   "outputs": [],
   "source": [
    "# Import CountVectorizer and create the count matrix\n",
    "from sklearn.feature_extraction.text import CountVectorizer\n",
    "\n",
    "count = CountVectorizer()"
   ]
  },
  {
   "cell_type": "code",
   "execution_count": 69,
   "metadata": {},
   "outputs": [],
   "source": [
    "count_matrix = count.fit_transform(products['concat'])"
   ]
  },
  {
   "cell_type": "code",
   "execution_count": 71,
   "metadata": {},
   "outputs": [
    {
     "data": {
      "text/plain": [
       "scipy.sparse.csr.csr_matrix"
      ]
     },
     "execution_count": 71,
     "metadata": {},
     "output_type": "execute_result"
    }
   ],
   "source": [
    "# Import CountVectorizer and create the count matrix\n",
    "from sklearn.feature_extraction.text import CountVectorizer\n",
    "\n",
    "count = CountVectorizer(stop_words='english')\n",
    "count_matrix = count.fit_transform(products['concat'])\n",
    "type(count_matrix)"
   ]
  },
  {
   "cell_type": "code",
   "execution_count": 72,
   "metadata": {},
   "outputs": [],
   "source": [
    "# Compute the Cosine Similarity matrix based on the count_matrix\n",
    "from sklearn.metrics.pairwise import cosine_similarity\n",
    "\n",
    "cosine_sim2 = cosine_similarity(count_matrix, count_matrix)"
   ]
  },
  {
   "cell_type": "code",
   "execution_count": 73,
   "metadata": {},
   "outputs": [],
   "source": [
    "# Reset index of your main DataFrame and construct reverse mapping as before\n",
    "products = products.reset_index()\n",
    "indices = pd.Series(products.index, index=products['Product_Name'])"
   ]
  },
  {
   "cell_type": "code",
   "execution_count": 75,
   "metadata": {},
   "outputs": [
    {
     "data": {
      "text/plain": [
       "285                   A3 Personalised Photobook 42 pages\n",
       "977                  A3 Personalised Photobook 100 Pages\n",
       "42     2 X A3 Personalised Photobook with 26 Pages (3...\n",
       "140                   A4 Personalised Photobook 26 pages\n",
       "645              A4 Personalised Photobook with 26 pages\n",
       "158    2 X A3 Personalised Photobook with 26 Pages +M...\n",
       "165    A3 Personalised Photobook with 100 Pages + No ...\n",
       "219    A3 Personalised Photobook with 50 Pages + No Logo\n",
       "579    A3 Personalised Photobook with 32 Pages + No Logo\n",
       "128    1 x A3 Personalised Photobook with 26 Pages an...\n",
       "Name: Product_Name, dtype: object"
      ]
     },
     "execution_count": 75,
     "metadata": {},
     "output_type": "execute_result"
    }
   ],
   "source": [
    "get_recommendations('A3 Personalised Photobook 26 pages', cosine_sim2)"
   ]
  },
  {
   "cell_type": "code",
   "execution_count": null,
   "metadata": {},
   "outputs": [],
   "source": []
  }
 ],
 "metadata": {
  "kernelspec": {
   "display_name": "Python 3",
   "language": "python",
   "name": "python3"
  }
 },
 "nbformat": 4,
 "nbformat_minor": 2
}
